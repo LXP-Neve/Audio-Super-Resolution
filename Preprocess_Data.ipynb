{
 "cells": [
  {
   "cell_type": "markdown",
   "metadata": {},
   "source": [
    "### referenced by - https://github.com/kuleshov/audio-super-res"
   ]
  },
  {
   "cell_type": "markdown",
   "metadata": {},
   "source": [
    "## 1. VCTK데이터셋 다운로드 및 준비\n",
    "\n",
    "* 학습에 사용될 VCTK데이터를 다운로드하고 압축을 푸는 과정을 수행한다.  \n",
    "* 만약 다른 데이터셋을 사용하거나 미리 만든 데이터셋을 사용할 경우 이 단계는 수행 할 필요없다.  \n",
    "* 단, 해당 폴더에 VCTK압축 파일을 저장해 두거나 별도의 경로를 Makefile에 지정해야함  \n",
    "~~~\n",
    "./audio-super-res/data/make\n",
    "~~~"
   ]
  },
  {
   "cell_type": "markdown",
   "metadata": {},
   "source": [
    "## 2. 학습데이터 파일 리스트 준비\n",
    "### A. audio-super-res의 preprocess단계를 사용할 경우\n",
    "* wav 음성 데이터 파일들의 (경로+파일이름)으로 구성된 텍스트파일을 준비한다  \n",
    "(ex)./audio-super-res/data/vctk/multispeaker/train-files.txt\n",
    "* wav 파일의 원본을 High-resolution, 학습용으로 preprocess된 파일을 Low-resolution 구성\n",
    "* 위의 과정을 위해 기존 프로젝트에서는 single speaker와 multi speaker로 데이터셋을 분리하여 prep_vctk.py로 전처리했다\n",
    "~~~\n",
    "./audio-super-res/data/vctk/speaker1/make\n",
    "./audio-super-res/data/vctk/multispeaker/make\n",
    "~~~\n",
    "* 위의 make작업으로 학습데이터 리스트를 바탕으로 prep_vctk.py에서 원본 데이터를 Low-Resolution으로 변환 후 잘게 자른 다음 h5파일로 구성하여 저장한다 \n",
    "\n",
    "### B. 별도의 전처리된 .wav파일을 사용할 경우\n",
    "* input파일과 output파일을 준비한다\n",
    "* input-file-list와 output-file-list를 각각 준비"
   ]
  },
  {
   "cell_type": "code",
   "execution_count": 3,
   "metadata": {},
   "outputs": [],
   "source": [
    "import os, argparse\n",
    "import numpy as np\n",
    "import h5py\n",
    "import librosa\n",
    "from scipy import interpolate\n",
    "from scipy.signal import decimate\n",
    "# ----------------------------------------------------------------------------\n",
    "'''\n",
    "parser = argparse.ArgumentParser()\n",
    "\n",
    "parser.add_argument('--file-list',\n",
    "  help='list of input wav files to process')\n",
    "parser.add_argument('--in-dir', default='~/',\n",
    "  help='folder where input files are located')\n",
    "parser.add_argument('--out',\n",
    "  help='path to output h5 archive')\n",
    "parser.add_argument('--scale', type=int, default=2,\n",
    "  help='scaling factor')\n",
    "parser.add_argument('--dimension', type=int, default=8192,\n",
    "  help='dimension of patches')\n",
    "parser.add_argument('--stride', type=int, default=3200,\n",
    "  help='stride when extracting patches')\n",
    "parser.add_argument('--interpolate', action='store_true', \n",
    "  help='interpolate low-res patches with cubic splines')\n",
    "parser.add_argument('--low-pass', action='store_true',\n",
    "  help='apply low-pass filter when generating low-res patches')\n",
    "parser.add_argument('--batch-size', type=int, default=128,\n",
    "  help='we produce # of patches that is a multiple of batch size')\n",
    "parser.add_argument('--sr', type=int, default=16000, help='audio sampling rate')\n",
    "parser.add_argument('--sam', type=float, default=1.,\n",
    "  help='subsampling factor for the data')\n",
    "\n",
    "args = parser.parse_args()\n",
    "'''\n",
    "\n",
    "# --------- for testing ------------------------------------------------------\n",
    "\n",
    "input_file_path = './audio-super-res/data/vctk/preprocessed_data/inputfiles.txt'\n",
    "output_file_path = './audio-super-res/data/vctk/preprocessed_data/outputfiles.txt'\n",
    "\n",
    "# ----------------------------------------------------------------------------"
   ]
  },
  {
   "cell_type": "code",
   "execution_count": null,
   "metadata": {},
   "outputs": [],
   "source": [
    "\n",
    "    "
   ]
  },
  {
   "cell_type": "code",
   "execution_count": null,
   "metadata": {},
   "outputs": [],
   "source": []
  },
  {
   "cell_type": "code",
   "execution_count": null,
   "metadata": {},
   "outputs": [],
   "source": []
  }
 ],
 "metadata": {
  "kernelspec": {
   "display_name": "Python 3",
   "language": "python",
   "name": "python3"
  },
  "language_info": {
   "codemirror_mode": {
    "name": "ipython",
    "version": 3
   },
   "file_extension": ".py",
   "mimetype": "text/x-python",
   "name": "python",
   "nbconvert_exporter": "python",
   "pygments_lexer": "ipython3",
   "version": "3.5.2"
  }
 },
 "nbformat": 4,
 "nbformat_minor": 2
}
