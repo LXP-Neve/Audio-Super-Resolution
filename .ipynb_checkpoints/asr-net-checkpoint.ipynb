{
 "cells": [
  {
   "cell_type": "code",
   "execution_count": 1,
   "metadata": {},
   "outputs": [],
   "source": [
    "import numpy as np\n",
    "import tensorflow as tf\n",
    "from scipy import interpolate\n",
    "from model import Model, default_opt\n",
    "from subpixel import SubPixel1D, SubPixel1D_v2\n",
    "from standard import conv1d, deconv1d"
   ]
  },
  {
   "cell_type": "code",
   "execution_count": 2,
   "metadata": {},
   "outputs": [],
   "source": [
    "L = 4\n",
    "#n_filters = [128, 256, 512,512]\n",
    "n_filters = [12,  24,  48, 48]\n",
    "#n_filtersizes = [65, 33, 17,  9]\n",
    "n_filtersizes = [10, 7, 3,  3]\n",
    "\n",
    "# shape = (num of example, sampling-ratio, num of channel)\n",
    "X = tf.placeholder(tf.float32, shape=(100, 8192, 1), name='X')\n",
    "Y = tf.placeholder(tf.float32, shape=(100, 8192, 1), name='Y')\n",
    "downsampled_l = []\n",
    "di = 0"
   ]
  },
  {
   "cell_type": "code",
   "execution_count": 3,
   "metadata": {},
   "outputs": [],
   "source": [
    "def reshape1Dto2D(X):\n",
    "    n_batch, n_width, n_chan = X.get_shape()\n",
    "    X = tf.reshape(X,[n_batch, 1, n_width, n_chan])\n",
    "    return X\n",
    "\n",
    "def reshape2Dto1D(X):\n",
    "    # reshape 2D -> 1D\n",
    "    n_batch, _, n_width, n_chan = X.get_shape()\n",
    "    X = tf.reshape(X,[n_batch, n_width, n_chan])\n",
    "    return X\n",
    "\n",
    "def downsample_layer(x , nf, ks, B=False):\n",
    "    x = tf.layers.conv1d(\n",
    "        x,\n",
    "        filters = nf,\n",
    "        kernel_size = ks,\n",
    "        strides=1,\n",
    "        padding='same',\n",
    "        data_format='channels_last',\n",
    "        dilation_rate=1,\n",
    "        activation=None,\n",
    "        use_bias=True,\n",
    "        kernel_initializer=None,\n",
    "        bias_initializer=tf.zeros_initializer(),\n",
    "        kernel_regularizer=None,\n",
    "        bias_regularizer=None,\n",
    "        activity_regularizer=None,\n",
    "        kernel_constraint=None,\n",
    "        bias_constraint=None,\n",
    "        trainable=True,\n",
    "        name=None,\n",
    "        reuse=None\n",
    "    )\n",
    "    x = tf.layers.max_pooling1d(\n",
    "        x,\n",
    "        pool_size = 2,\n",
    "        strides = 2,\n",
    "        padding='same',\n",
    "        data_format='channels_last',\n",
    "        name=None\n",
    "    )\n",
    "    \n",
    "    if B : x = tf.layers.dropout(x, rate=0.5)\n",
    "        \n",
    "    x = tf.nn.relu(x)\n",
    "    return x\n",
    "\n",
    "def upsample_layer(x, nf, ks):\n",
    "    '''x = tf.layers.conv2d_transpose(\n",
    "        x,\n",
    "        filters = nf,\n",
    "        kernel_size = [1,ks],\n",
    "        strides=(1, 1),\n",
    "        padding='same',\n",
    "        data_format='channels_last',\n",
    "        activation=None,\n",
    "        use_bias=True,\n",
    "        kernel_initializer=None,\n",
    "        bias_initializer=tf.zeros_initializer(),\n",
    "        kernel_regularizer=None,\n",
    "        bias_regularizer=None,\n",
    "        activity_regularizer=None,\n",
    "        kernel_constraint=None,\n",
    "        bias_constraint=None,\n",
    "        trainable=True,\n",
    "        name=None,\n",
    "        reuse=None\n",
    "    )'''\n",
    "    x = tf.layers.conv1d(\n",
    "        x,\n",
    "        filters = nf,\n",
    "        kernel_size = ks,\n",
    "        strides=1,\n",
    "        padding='same',\n",
    "        data_format='channels_last',\n",
    "        dilation_rate=1,\n",
    "        activation=None,\n",
    "        use_bias=True,\n",
    "        kernel_initializer=None,\n",
    "        bias_initializer=tf.zeros_initializer(),\n",
    "        kernel_regularizer=None,\n",
    "        bias_regularizer=None,\n",
    "        activity_regularizer=None,\n",
    "        kernel_constraint=None,\n",
    "        bias_constraint=None,\n",
    "        trainable=True,\n",
    "        name=None,\n",
    "        reuse=None\n",
    "    )\n",
    "    x = tf.layers.dropout(x, rate=0.5)\n",
    "    x = tf.nn.relu(x)\n",
    "    x = SubPixel1D(x,r=2)\n",
    "    return x"
   ]
  },
  {
   "cell_type": "code",
   "execution_count": 4,
   "metadata": {},
   "outputs": [
    {
     "name": "stdout",
     "output_type": "stream",
     "text": [
      "Tensor(\"Relu:0\", shape=(100, 4096, 128), dtype=float32)\n",
      "Tensor(\"Relu_1:0\", shape=(100, 2048, 256), dtype=float32)\n",
      "Tensor(\"Relu_2:0\", shape=(100, 1024, 512), dtype=float32)\n",
      "Tensor(\"Relu_3:0\", shape=(100, 512, 512), dtype=float32)\n"
     ]
    }
   ],
   "source": [
    "# save origin-X \n",
    "oX = X\n",
    "# downsampling layers\n",
    "for l, nf, fs in zip(range(L), n_filters, n_filtersizes):\n",
    "    X = downsample_layer(X, nf, fs)\n",
    "    downsampled_l.append(X)\n",
    "    print(X)"
   ]
  },
  {
   "cell_type": "code",
   "execution_count": 5,
   "metadata": {},
   "outputs": [
    {
     "name": "stdout",
     "output_type": "stream",
     "text": [
      "Tensor(\"Relu_4:0\", shape=(100, 256, 512), dtype=float32)\n"
     ]
    }
   ],
   "source": [
    "# Bottle net layer\n",
    "X = downsample_layer(X, n_filters[-1], n_filtersizes[-1], B=True)\n",
    "print(X)"
   ]
  },
  {
   "cell_type": "code",
   "execution_count": 6,
   "metadata": {},
   "outputs": [
    {
     "name": "stdout",
     "output_type": "stream",
     "text": [
      "concated >>  Tensor(\"concat:0\", shape=(100, 512, 1024), dtype=float32)\n",
      "concated >>  Tensor(\"concat_1:0\", shape=(100, 1024, 1024), dtype=float32)\n",
      "concated >>  Tensor(\"concat_2:0\", shape=(100, 2048, 512), dtype=float32)\n",
      "concated >>  Tensor(\"concat_3:0\", shape=(100, 4096, 256), dtype=float32)\n"
     ]
    }
   ],
   "source": [
    "# Upsample layer\n",
    "L = reversed(range(L))\n",
    "n_filters = reversed(n_filters)\n",
    "n_filtersizes = reversed(n_filtersizes)\n",
    "downsampled_l = reversed(downsampled_l)\n",
    "\n",
    "for l, nf, fs, l_in in zip( L, (n_filters), (n_filtersizes), (downsampled_l)):\n",
    "    #X = reshape1Dto2D(X)\n",
    "    X = upsample_layer(X, nf*2, fs)\n",
    "    #X = reshape2Dto1D(X)\n",
    "    \n",
    "    X = tf.concat([X,l_in],axis=-1)\n",
    "    print('concated >> ',X)"
   ]
  },
  {
   "cell_type": "code",
   "execution_count": 7,
   "metadata": {},
   "outputs": [
    {
     "name": "stdout",
     "output_type": "stream",
     "text": [
      "Tensor(\"subpixel_4/transpose_1:0\", shape=(100, 8192, 1), dtype=float32)\n",
      "Tensor(\"X:0\", shape=(100, 8192, 1), dtype=float32)\n",
      "Tensor(\"Add:0\", shape=(100, 8192, 1), dtype=float32)\n"
     ]
    }
   ],
   "source": [
    "# Final layer and add input layer\n",
    "X = upsample_layer(X,nf=2,ks=9)\n",
    "print(X)\n",
    "print(oX)\n",
    "X = tf.add(X,oX)\n",
    "print(X)"
   ]
  },
  {
   "cell_type": "code",
   "execution_count": null,
   "metadata": {},
   "outputs": [],
   "source": []
  }
 ],
 "metadata": {
  "kernelspec": {
   "display_name": "Python 3",
   "language": "python",
   "name": "python3"
  },
  "language_info": {
   "codemirror_mode": {
    "name": "ipython",
    "version": 3
   },
   "file_extension": ".py",
   "mimetype": "text/x-python",
   "name": "python",
   "nbconvert_exporter": "python",
   "pygments_lexer": "ipython3",
   "version": "3.5.2"
  }
 },
 "nbformat": 4,
 "nbformat_minor": 2
}
