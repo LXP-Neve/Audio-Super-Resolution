{
 "cells": [
  {
   "cell_type": "markdown",
   "metadata": {},
   "source": [
    "#### referenced by - https://github.com/kuleshov/audio-super-res"
   ]
  },
  {
   "cell_type": "markdown",
   "metadata": {},
   "source": [
    "# Training ASR model"
   ]
  },
  {
   "cell_type": "code",
   "execution_count": 36,
   "metadata": {},
   "outputs": [],
   "source": [
    "import os\n",
    "os.sys.path.append(os.path.abspath('.'))\n",
    "os.sys.path.append(os.path.dirname(os.path.abspath('.')))\n",
    "import numpy as np\n",
    "import matplotlib\n",
    "import src.models as models\n",
    "from src.models.model import default_opt\n",
    "from src.models.io import load_h5, upsample_wav\n",
    "import tensorflow as tf\n",
    "matplotlib.use('Agg')"
   ]
  },
  {
   "cell_type": "code",
   "execution_count": 42,
   "metadata": {},
   "outputs": [
    {
     "name": "stdout",
     "output_type": "stream",
     "text": [
      "1.5.0\n"
     ]
    }
   ],
   "source": [
    "args = {\n",
    "    'train'      : 'prep_audioset.h5',\n",
    "    'val'        : 'prep_audioset.val.h5',\n",
    "    'alg'        : 'adam',\n",
    "    'epochs'     : 100,\n",
    "    'logname'    : 'default_log_name',\n",
    "    'layers'     : 4,\n",
    "    'lr'         : 1e-3,\n",
    "    'batch_size' : 128\n",
    "}\n",
    "print(tf.__version__)"
   ]
  },
  {
   "cell_type": "code",
   "execution_count": 43,
   "metadata": {},
   "outputs": [
    {
     "name": "stdout",
     "output_type": "stream",
     "text": [
      "List of arrays in input file: KeysView(<HDF5 file \"prep_audioset.h5\" (mode r)>)\n",
      "Shape of X: (48, 8192, 1)\n",
      "Shape of Y: (48, 8192, 1)\n",
      "List of arrays in input file: KeysView(<HDF5 file \"prep_audioset.val.h5\" (mode r)>)\n",
      "Shape of X: (48, 8192, 1)\n",
      "Shape of Y: (48, 8192, 1)\n"
     ]
    }
   ],
   "source": [
    "# get data\n",
    "X_train, Y_train = load_h5(args['train'])\n",
    "X_val, Y_val = load_h5(args['val'])"
   ]
  },
  {
   "cell_type": "code",
   "execution_count": 44,
   "metadata": {},
   "outputs": [
    {
     "name": "stdout",
     "output_type": "stream",
     "text": [
      "number of dimension: 8192\n",
      "number of channel: 1\n",
      "r: 1.0\n"
     ]
    }
   ],
   "source": [
    "# determine super-resolution level\n",
    "n_dim, n_chan = Y_train[0].shape\n",
    "print('number of dimension:',n_dim)\n",
    "print('number of channel:',n_chan)\n",
    "r = Y_train[0].shape[1] / X_train[0].shape[1]\n",
    "print('r:',r)\n",
    "assert n_chan == 1 # if not number of channel is not 0 -> Error assert!"
   ]
  },
  {
   "cell_type": "code",
   "execution_count": 45,
   "metadata": {},
   "outputs": [
    {
     "name": "stdout",
     "output_type": "stream",
     "text": [
      "building model...\n",
      "D-Block:  (?, ?, 128)\n",
      "D-Block:  (?, ?, 256)\n",
      "D-Block:  (?, ?, 512)\n",
      "D-Block:  (?, ?, 512)\n",
      "U-Block:  (?, ?, 1024)\n",
      "U-Block:  (?, ?, 1024)\n",
      "U-Block:  (?, ?, 768)\n",
      "U-Block:  (?, ?, 640)\n",
      "(?, ?, 1)\n",
      "creating train_op with params: {'alg': 'adam', 'b2': 0.999, 'layers': 4, 'batch_size': 128, 'b1': 0.9, 'lr': 0.001}\n"
     ]
    }
   ],
   "source": [
    "# create model\n",
    "def get_model(args, n_dim, r, from_ckpt=False, train=True):\n",
    "    \"\"\"Create a model based on arguments\"\"\"\n",
    "    if train:\n",
    "        opt_params = {\n",
    "            'alg' : args['alg'], \n",
    "            'lr' : args['lr'], \n",
    "            'b1' : 0.9, \n",
    "            'b2' : 0.999,\n",
    "            'batch_size': args['batch_size'], \n",
    "            'layers': args['layers']}\n",
    "    else: \n",
    "        opt_params = default_opt\n",
    "\n",
    "    # create model\n",
    "    model = models.AudioUNet(from_ckpt=from_ckpt, n_dim=n_dim, r=r,opt_params=opt_params, log_prefix=args['logname'])\n",
    "    return model\n",
    "\n",
    "model = get_model(args, n_dim, r, from_ckpt=False, train=True)"
   ]
  },
  {
   "cell_type": "code",
   "execution_count": 1,
   "metadata": {},
   "outputs": [],
   "source": [
    "# train model\n",
    "#model.fit(X_train, Y_train, X_val, Y_val, n_epoch=args['epochs'])"
   ]
  },
  {
   "cell_type": "code",
   "execution_count": null,
   "metadata": {},
   "outputs": [],
   "source": []
  }
 ],
 "metadata": {
  "kernelspec": {
   "display_name": "Python 3",
   "language": "python",
   "name": "python3"
  },
  "language_info": {
   "codemirror_mode": {
    "name": "ipython",
    "version": 3
   },
   "file_extension": ".py",
   "mimetype": "text/x-python",
   "name": "python",
   "nbconvert_exporter": "python",
   "pygments_lexer": "ipython3",
   "version": "3.5.2"
  }
 },
 "nbformat": 4,
 "nbformat_minor": 2
}
